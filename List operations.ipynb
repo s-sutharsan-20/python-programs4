{
 "cells": [
  {
   "cell_type": "code",
   "execution_count": 8,
   "id": "2fc8c19b-bf4f-4fb2-baa3-4a1c4332a76f",
   "metadata": {},
   "outputs": [
    {
     "name": "stdout",
     "output_type": "stream",
     "text": [
      "[1, 2, 3, 'a', 'b', 'c']\n"
     ]
    }
   ],
   "source": [
    "list1=[1,2,3,'a','b','c']\n",
    "print(list1)"
   ]
  },
  {
   "cell_type": "code",
   "execution_count": 9,
   "id": "69fb8d9b-04b7-4231-b82d-5f1e371796d0",
   "metadata": {},
   "outputs": [
    {
     "name": "stdout",
     "output_type": "stream",
     "text": [
      "[4, 5, 6, 'd', 'e', 'f']\n"
     ]
    }
   ],
   "source": [
    "tuple=(4,5,6,'d','e','f')\n",
    "list2=list(tuple)\n",
    "print(list2)"
   ]
  },
  {
   "cell_type": "code",
   "execution_count": 10,
   "id": "4dab2c72-d7a0-4de7-9dcc-f0017d35cb9f",
   "metadata": {},
   "outputs": [
    {
     "name": "stdout",
     "output_type": "stream",
     "text": [
      "['i', 2, 4, 6, 'h', 'g']\n"
     ]
    }
   ],
   "source": [
    "set={2,4,6,'g','h','i'}\n",
    "list3=list(set)\n",
    "print(list3)"
   ]
  },
  {
   "cell_type": "code",
   "execution_count": 11,
   "id": "647237fc-0119-48d2-9a9b-ec0524a97a0d",
   "metadata": {},
   "outputs": [
    {
     "name": "stdout",
     "output_type": "stream",
     "text": [
      "[1, 2, 3, 'a', 'b', 'c', 'd']\n"
     ]
    }
   ],
   "source": [
    "list1.append('d')\n",
    "print(list1)"
   ]
  },
  {
   "cell_type": "code",
   "execution_count": 12,
   "id": "2f1694f9-3804-4afb-89c6-af7fe4f9cd13",
   "metadata": {},
   "outputs": [
    {
     "name": "stdout",
     "output_type": "stream",
     "text": [
      "[4, 5, 6, 'e', 'f']\n"
     ]
    }
   ],
   "source": [
    "list2.remove('d')\n",
    "print(list2)"
   ]
  },
  {
   "cell_type": "code",
   "execution_count": null,
   "id": "754453dc-b9b2-4797-beb5-2c2526f3a79f",
   "metadata": {},
   "outputs": [],
   "source": [
    "list3.insert"
   ]
  },
  {
   "cell_type": "code",
   "execution_count": 14,
   "id": "3ba0be86-414e-4431-83cc-05bc189d4dbd",
   "metadata": {},
   "outputs": [],
   "source": [
    "list=[]"
   ]
  },
  {
   "cell_type": "code",
   "execution_count": 15,
   "id": "670056a4-bab0-4a1b-9ab7-2731f058118d",
   "metadata": {},
   "outputs": [
    {
     "name": "stdout",
     "output_type": "stream",
     "text": [
      "[1, 2, 3, 'a', 'b', 'c']\n"
     ]
    }
   ],
   "source": [
    "list1=[1,2,3,'a','b','c']\n",
    "copy_list=list1.copy()\n",
    "print(copy_list)"
   ]
  },
  {
   "cell_type": "code",
   "execution_count": 20,
   "id": "c5845c4c-064d-432e-b6ef-f80e156541a2",
   "metadata": {},
   "outputs": [
    {
     "name": "stdout",
     "output_type": "stream",
     "text": [
      "3\n",
      "2\n"
     ]
    }
   ],
   "source": [
    "my_list=[10,45,5,1,6,7,4,3,5,5,6,10]\n",
    "n1=my_list.count(5)\n",
    "n2=my_list.count(6)\n",
    "print(n1)\n",
    "print(n2)"
   ]
  },
  {
   "cell_type": "code",
   "execution_count": 22,
   "id": "ca45692b-1894-4cc8-b213-cf5948dca247",
   "metadata": {},
   "outputs": [
    {
     "name": "stdout",
     "output_type": "stream",
     "text": [
      "[1, 2, 3, 'a', 'b', 'c']\n",
      "['c', 'b', 'a', 3, 2, 1]\n"
     ]
    }
   ],
   "source": [
    "list1=[1,2,3,'a','b','c']\n",
    "print(list1)\n",
    "list1.reverse()\n",
    "print(list1)"
   ]
  },
  {
   "cell_type": "code",
   "execution_count": 23,
   "id": "b7a19593-28e0-4e40-8f5b-0e95837ac51a",
   "metadata": {},
   "outputs": [
    {
     "name": "stdout",
     "output_type": "stream",
     "text": [
      "25.233\n"
     ]
    }
   ],
   "source": [
    "list=[25.23,25.233,25.20,25.230]\n",
    "print(max(list))"
   ]
  },
  {
   "cell_type": "code",
   "execution_count": 24,
   "id": "64d1b981-2479-4cc4-8988-25b8bf7952f9",
   "metadata": {},
   "outputs": [
    {
     "name": "stdout",
     "output_type": "stream",
     "text": [
      "25.2\n"
     ]
    }
   ],
   "source": [
    "print(min(list))"
   ]
  },
  {
   "cell_type": "code",
   "execution_count": 29,
   "id": "5a6741f9-6ce3-4f4f-93fa-307ab9e940a2",
   "metadata": {},
   "outputs": [
    {
     "name": "stdout",
     "output_type": "stream",
     "text": [
      "100\n"
     ]
    }
   ],
   "source": [
    "list=[22,8,18,1,10,5,2,6,15,13]\n",
    "print(sum(list))"
   ]
  },
  {
   "cell_type": "markdown",
   "id": "def103e1-d8a5-449f-8730-c6fe6e76d073",
   "metadata": {},
   "source": [
    "length of list"
   ]
  },
  {
   "cell_type": "code",
   "execution_count": 30,
   "id": "890a47bf-ec4f-4121-9936-e28d370920fc",
   "metadata": {},
   "outputs": [
    {
     "name": "stdout",
     "output_type": "stream",
     "text": [
      "10\n"
     ]
    }
   ],
   "source": [
    "print(len(list))"
   ]
  },
  {
   "cell_type": "markdown",
   "id": "50d8385b-7017-4fc2-bbad-34811f7a9aed",
   "metadata": {},
   "source": [
    "Average of list "
   ]
  },
  {
   "cell_type": "code",
   "execution_count": 31,
   "id": "5c81904b-944f-4d8b-b692-236c6518cd6c",
   "metadata": {},
   "outputs": [
    {
     "name": "stdout",
     "output_type": "stream",
     "text": [
      "10.0\n"
     ]
    }
   ],
   "source": [
    "print(sum(list)/len(list))"
   ]
  },
  {
   "cell_type": "code",
   "execution_count": 36,
   "id": "fcc98f34-487e-4079-a670-a0a6040c27d4",
   "metadata": {},
   "outputs": [
    {
     "name": "stdout",
     "output_type": "stream",
     "text": [
      "[43, 6, 4, 2, 1, 1]\n"
     ]
    }
   ],
   "source": [
    "list=[43,6,2,1,1,4]\n",
    "list.sort(reverse=True)\n",
    "print(list)"
   ]
  },
  {
   "cell_type": "code",
   "execution_count": 37,
   "id": "27434e63-6ba7-49ae-a7b2-46474a8ece19",
   "metadata": {},
   "outputs": [
    {
     "name": "stdout",
     "output_type": "stream",
     "text": [
      "[0, 3, 4, 6, 9, 21, 57]\n"
     ]
    }
   ],
   "source": [
    "list=[57,21,0,3,6,9,4]\n",
    "list.sort()\n",
    "print(list)"
   ]
  },
  {
   "cell_type": "code",
   "execution_count": 39,
   "id": "43d51838-aa5e-45d0-a356-f8d75a617da2",
   "metadata": {},
   "outputs": [
    {
     "name": "stdout",
     "output_type": "stream",
     "text": [
      "True\n",
      "False\n"
     ]
    }
   ],
   "source": [
    "list=['d','g','t','i','o','l']\n",
    "print('o' in list)\n",
    "print('a' in list)"
   ]
  },
  {
   "cell_type": "code",
   "execution_count": 40,
   "id": "4c985979-14c5-441f-b16f-2b86a81f629b",
   "metadata": {},
   "outputs": [
    {
     "name": "stdout",
     "output_type": "stream",
     "text": [
      "True\n",
      "False\n"
     ]
    }
   ],
   "source": [
    "print('e' not in list)\n",
    "print('g' not in list)"
   ]
  },
  {
   "cell_type": "code",
   "execution_count": 45,
   "id": "7e14d784-a58d-4839-ae0a-d0dc1b2bd63b",
   "metadata": {},
   "outputs": [
    {
     "name": "stdout",
     "output_type": "stream",
     "text": [
      "1\n",
      "3\n",
      "5\n",
      "7\n",
      "9\n",
      "11\n",
      "13\n",
      "15\n",
      "17\n",
      "19\n",
      "21\n",
      "23\n",
      "25\n",
      "27\n",
      "29\n",
      "31\n",
      "33\n",
      "35\n",
      "37\n",
      "39\n",
      "41\n",
      "43\n",
      "45\n",
      "47\n",
      "49\n",
      "51\n",
      "53\n",
      "55\n",
      "57\n",
      "59\n",
      "61\n",
      "63\n",
      "65\n",
      "67\n",
      "69\n",
      "71\n",
      "73\n",
      "75\n",
      "77\n",
      "79\n",
      "81\n",
      "83\n",
      "85\n",
      "87\n",
      "89\n",
      "91\n",
      "93\n",
      "95\n",
      "97\n",
      "99\n"
     ]
    }
   ],
   "source": [
    "for list in range(1,100,2):\n",
    "    print(list)"
   ]
  },
  {
   "cell_type": "code",
   "execution_count": 44,
   "id": "74882656-3268-41d2-bcc6-cfb4d8ad63d2",
   "metadata": {},
   "outputs": [
    {
     "name": "stdout",
     "output_type": "stream",
     "text": [
      "0\n",
      "2\n",
      "4\n",
      "6\n",
      "8\n",
      "10\n",
      "12\n",
      "14\n",
      "16\n",
      "18\n",
      "20\n",
      "22\n",
      "24\n",
      "26\n",
      "28\n",
      "30\n",
      "32\n",
      "34\n",
      "36\n",
      "38\n",
      "40\n",
      "42\n",
      "44\n",
      "46\n",
      "48\n",
      "50\n",
      "52\n",
      "54\n",
      "56\n",
      "58\n",
      "60\n",
      "62\n",
      "64\n",
      "66\n",
      "68\n",
      "70\n",
      "72\n",
      "74\n",
      "76\n",
      "78\n",
      "80\n",
      "82\n",
      "84\n",
      "86\n",
      "88\n",
      "90\n",
      "92\n",
      "94\n",
      "96\n",
      "98\n"
     ]
    }
   ],
   "source": [
    "for x in range(0,100,2):\n",
    "    print(x)"
   ]
  },
  {
   "cell_type": "code",
   "execution_count": 46,
   "id": "137a4620-e1fb-43c7-83fb-e00572259100",
   "metadata": {},
   "outputs": [
    {
     "name": "stdout",
     "output_type": "stream",
     "text": [
      "1\n",
      "2\n",
      "3\n",
      "4\n",
      "5\n",
      "6\n",
      "7\n",
      "8\n",
      "9\n"
     ]
    }
   ],
   "source": [
    "for x in range(1,10):\n",
    "    print(x)"
   ]
  },
  {
   "cell_type": "code",
   "execution_count": 47,
   "id": "e628ea5a-25cb-4070-a6c9-51ad80316806",
   "metadata": {},
   "outputs": [
    {
     "name": "stdout",
     "output_type": "stream",
     "text": [
      "[6, 3, 8, 5, 1]\n"
     ]
    }
   ],
   "source": [
    "list=[1,6,3,8,5,1]\n",
    "list.remove(1)\n",
    "print(list)"
   ]
  },
  {
   "cell_type": "code",
   "execution_count": 48,
   "id": "5f3d2852-01b9-472c-8f57-f207c3d7d7ed",
   "metadata": {},
   "outputs": [
    {
     "name": "stdout",
     "output_type": "stream",
     "text": [
      "[6, 3, 8, 5]\n"
     ]
    }
   ],
   "source": [
    "list.pop(4)\n",
    "print(list)"
   ]
  },
  {
   "cell_type": "code",
   "execution_count": 49,
   "id": "419842fd-2563-4fbf-b843-6f41454c38a7",
   "metadata": {},
   "outputs": [
    {
     "name": "stdout",
     "output_type": "stream",
     "text": [
      "[]\n"
     ]
    }
   ],
   "source": [
    "list.clear()\n",
    "print(list)"
   ]
  },
  {
   "cell_type": "code",
   "execution_count": 51,
   "id": "9601b611-81ed-48b3-b943-cc5415b5ac5d",
   "metadata": {},
   "outputs": [
    {
     "name": "stdout",
     "output_type": "stream",
     "text": [
      "6\n",
      "5\n",
      "2\n"
     ]
    }
   ],
   "source": [
    "list=[2,5,8,1,6]\n",
    "print(list[-1])\n",
    "print(list[1])\n",
    "print(list[0])"
   ]
  },
  {
   "cell_type": "code",
   "execution_count": null,
   "id": "d2102184-af56-42d3-9d74-d5c44dcc7809",
   "metadata": {},
   "outputs": [],
   "source": []
  }
 ],
 "metadata": {
  "kernelspec": {
   "display_name": "Python 3 (ipykernel)",
   "language": "python",
   "name": "python3"
  },
  "language_info": {
   "codemirror_mode": {
    "name": "ipython",
    "version": 3
   },
   "file_extension": ".py",
   "mimetype": "text/x-python",
   "name": "python",
   "nbconvert_exporter": "python",
   "pygments_lexer": "ipython3",
   "version": "3.9.12"
  }
 },
 "nbformat": 4,
 "nbformat_minor": 5
}
