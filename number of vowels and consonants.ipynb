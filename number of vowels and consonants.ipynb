{
 "cells": [
  {
   "cell_type": "code",
   "execution_count": 2,
   "metadata": {},
   "outputs": [
    {
     "name": "stdout",
     "output_type": "stream",
     "text": [
      "The given string contains 3 vowels and 6 consonants\n"
     ]
    }
   ],
   "source": [
    "str1=input(\"Enter a string :\")\n",
    "str2=\"aAeEiIoOuU\"\n",
    "v,c=0,0\n",
    "for i in str1:\n",
    "    if i in str2:\n",
    "        v+=1\n",
    "    else:\n",
    "        c+=1\n",
    "print(\"The given string contains {} vowels and {} consonants\".format(v,c))"
   ]
  }
 ],
 "metadata": {
  "interpreter": {
   "hash": "822993cc2de8065dd07929654093e8c6598914b15835bcfeccbcac84530d789c"
  },
  "kernelspec": {
   "display_name": "Python 3.7.9 64-bit (windows store)",
   "language": "python",
   "name": "python3"
  },
  "language_info": {
   "codemirror_mode": {
    "name": "ipython",
    "version": 3
   },
   "file_extension": ".py",
   "mimetype": "text/x-python",
   "name": "python",
   "nbconvert_exporter": "python",
   "pygments_lexer": "ipython3",
   "version": "3.7.9"
  },
  "orig_nbformat": 4
 },
 "nbformat": 4,
 "nbformat_minor": 2
}
